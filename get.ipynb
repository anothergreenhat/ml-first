{
 "cells": [
  {
   "attachments": {},
   "cell_type": "markdown",
   "metadata": {},
   "source": [
    "# All Events by District\n",
    "\n",
    "districtCode=FMA"
   ]
  },
  {
   "cell_type": "code",
   "execution_count": 2,
   "metadata": {},
   "outputs": [
    {
     "name": "stdout",
     "output_type": "stream",
     "text": [
      "MRCMP NJFLA NJROB NJSKI NJTAB NJWAS PABEN PAHAT PAPHI\n"
     ]
    }
   ],
   "source": [
    "import requests\n",
    "import json\n",
    "import os\n",
    "\n",
    "apikey = os.environ['FRC_API_KEY']\n",
    "\n",
    "url = \"https://frc-api.firstinspires.org/v3.0/2023/events?districtCode=FMA\"\n",
    "\n",
    "payload={}\n",
    "headers = {\n",
    "  'Authorization': 'Basic '+apikey,\n",
    "  'If-Modified-Since': ''\n",
    "}\n",
    "\n",
    "response = requests.request(\"GET\", url, headers=headers, data=payload)\n",
    "events = response.json()\n",
    "\n",
    "print(*(events['Events'][i]['code'] for i in range(len(events['Events']))))\n"
   ]
  },
  {
   "attachments": {},
   "cell_type": "markdown",
   "metadata": {},
   "source": [
    "# Teams by Event\n",
    "\n",
    "Using eventCode="
   ]
  },
  {
   "cell_type": "code",
   "execution_count": 27,
   "metadata": {},
   "outputs": [
    {
     "name": "stdout",
     "output_type": "stream",
     "text": [
      "102\n"
     ]
    }
   ],
   "source": [
    "url = \"https://frc-api.firstinspires.org/v3.0/2023/teams?districtCode=FMA&eventCode=PAPHI\"\n",
    "\n",
    "payload={}\n",
    "headers = {\n",
    "  'Authorization': 'Basic '+apikey,\n",
    "  'If-Modified-Since': ''\n",
    "}\n",
    "\n",
    "response = requests.request(\"GET\", url, headers=headers, data=payload)\n",
    "json = response.json()\n",
    "print(json[\"teams\"][0][\"teamNumber\"])"
   ]
  },
  {
   "attachments": {},
   "cell_type": "markdown",
   "metadata": {},
   "source": [
    "## Determine Teams per Event"
   ]
  },
  {
   "cell_type": "code",
   "execution_count": 3,
   "metadata": {},
   "outputs": [
    {
     "name": "stdout",
     "output_type": "stream",
     "text": [
      "NJFLA: [11, 41, 56, 75, 102, 193, 219, 222, 223, 484, 555, 752, 1143, 1279, 1672, 1676, 1811, 1923, 1989, 2070, 2458, 2577, 3142, 3515, 4361, 4573, 5438, 5732, 5992, 6860, 6945, 7045, 8117, 8513, 8628, 9116]\n",
      "NJROB: [87, 293, 303, 316, 714, 1089, 1257, 1403, 1626, 1807, 1812, 2016, 2191, 2495, 2554, 2590, 3314, 4652, 4653, 5624, 5666, 5684, 6897, 7587, 8075, 8130, 8704, 8707, 8714, 9015, 9116]\n",
      "NJSKI: [25, 41, 75, 204, 293, 752, 1089, 1257, 1279, 1403, 1626, 1672, 1923, 2070, 2495, 2554, 2577, 3340, 3515, 3637, 4361, 4750, 5438, 5992, 6016, 6860, 6897, 7587, 8075, 8513, 8588, 8706, 8714]\n",
      "NJTAB: [25, 87, 203, 204, 272, 365, 816, 1168, 1647, 1712, 1807, 1812, 2180, 2191, 2559, 2720, 2722, 4342, 4750, 5113, 5457, 5732, 5895, 6226, 6921, 7110, 8130, 8630, 8704, 8721, 9100]\n",
      "NJWAS: [11, 56, 193, 219, 222, 223, 303, 555, 714, 834, 1143, 1672, 1676, 1811, 1989, 2070, 3142, 3340, 4285, 4361, 4573, 4652, 6943, 6945, 7045, 8117, 8588, 8628, 8706, 8707, 9015]\n",
      "PABEN: [272, 316, 321, 484, 486, 1391, 1647, 2016, 2458, 2607, 3314, 4285, 4373, 4575, 5310, 5401, 5457, 5490, 5624, 5666, 6921, 6943, 7414, 8630, 8721, 8771, 9014, 9027, 9094, 9100]\n",
      "PAHAT: [25, 103, 272, 341, 365, 423, 433, 708, 709, 816, 1218, 1391, 1640, 1807, 2095, 2180, 2234, 2539, 2559, 2590, 2607, 3637, 4653, 5113, 5181, 5310, 5407, 5490, 5684, 5895, 6226, 6808, 7110, 7414]\n",
      "PAPHI: [102, 103, 203, 321, 341, 423, 433, 486, 708, 709, 834, 1168, 1218, 1640, 1712, 2095, 2234, 2539, 2720, 2722, 4342, 4373, 4575, 5181, 5401, 5407, 6808, 8771, 9014, 9027, 9094]\n"
     ]
    }
   ],
   "source": [
    "import requests\n",
    "import json\n",
    "\n",
    "eventCodes = []\n",
    "for i in range(len(events[\"Events\"])):\n",
    "  eventCodes.append(events[\"Events\"][i][\"code\"])\n",
    "  \n",
    "base_eventCode_url = \"https://frc-api.firstinspires.org/v3.0/2023/teams?districtCode=FMA&eventCode=\"\n",
    "\n",
    "event_urls = {}\n",
    "for eventCode in eventCodes:\n",
    "  event_urls[eventCode] = base_eventCode_url+eventCode\n",
    "\n",
    "payload={}\n",
    "headers = {\n",
    "  'Authorization': 'Basic '+apikey,\n",
    "  'If-Modified-Since': ''\n",
    "}\n",
    "\n",
    "teams_at_events = {}\n",
    "\n",
    "for eventCode, url in event_urls.items():\n",
    "  response = requests.request(\"GET\", url, headers=headers, data=payload)\n",
    "  if response.status_code == 200:\n",
    "    event_teams = response.json()\n",
    "    num_teams = len(event_teams[\"teams\"])\n",
    "    if num_teams > 0:\n",
    "      for i in range(num_teams):\n",
    "        if eventCode in teams_at_events:\n",
    "          teams_at_events[eventCode].append(event_teams[\"teams\"][i][\"teamNumber\"])\n",
    "        else:\n",
    "          teams_at_events[eventCode] = [event_teams[\"teams\"][i][\"teamNumber\"]]\n",
    "  else:\n",
    "    print(f\"mlff: get.py: {eventCode} {response.status_code}\")\n",
    "\n",
    "\n",
    "for event, teams in teams_at_events.items():\n",
    "  print(f\"{event}: {teams}\")\n"
   ]
  },
  {
   "attachments": {},
   "cell_type": "markdown",
   "metadata": {},
   "source": [
    "# Collect Rankings\n",
    "\n",
    "Rankings for 2019, 2021, 2022"
   ]
  },
  {
   "cell_type": "code",
   "execution_count": 88,
   "metadata": {},
   "outputs": [],
   "source": [
    "import statistics\n",
    "url22 = \"https://frc-api.firstinspires.org/v3.0/2022/rankings/district?districtCode=FMA\"\n",
    "url19 = \"https://frc-api.firstinspires.org/v3.0/2019/rankings/district?districtCode=FMA\"\n",
    "url18 = \"https://frc-api.firstinspires.org/v3.0/2018/rankings/district?districtCode=MAR\"\n",
    "\n",
    "rank_year_urls = {2018:url18, 2019:url19, 2022:url22}\n",
    "\n",
    "payload={}\n",
    "headers = {\n",
    "  'Authorization': 'Basic '+apikey,\n",
    "  'If-Modified-Since': ''\n",
    "}\n",
    "\n",
    "teams_and_ranks_by_year = {2018: {}, 2019:{}, 2022:{}}\n",
    "\n",
    "for year, url in rank_year_urls.items():\n",
    "  response = requests.request(\"GET\", url, headers=headers, data=payload)\n",
    "  if response.status_code == 200:\n",
    "    team_ranks = response.json()\n",
    "    num_teams = len(team_ranks[\"districtRanks\"])\n",
    "    if num_teams > 0:\n",
    "      for i in range(num_teams):\n",
    "        team_num = team_ranks[\"districtRanks\"][i][\"teamNumber\"]\n",
    "        if team_num in teams_and_ranks_by_year[year]:\n",
    "          teams_and_ranks_by_year[year][team_num].append(team_ranks[\"districtRanks\"][i][\"event1Points\"])\n",
    "          teams_and_ranks_by_year[year][team_num].append(team_ranks[\"districtRanks\"][i][\"event2Points\"])\n",
    "        else:\n",
    "          teams_and_ranks_by_year[year][team_num] = [team_ranks[\"districtRanks\"][i][\"event1Points\"]]\n",
    "          teams_and_ranks_by_year[year][team_num].append(team_ranks[\"districtRanks\"][i][\"event2Points\"])\n",
    "  else:\n",
    "    print(f\"mlff: get.py: {year} {response.status_code}\")\n",
    "\n",
    "sorttup18 = sorted(teams_and_ranks_by_year[2018].items(), reverse=True, key=lambda x:statistics.mean(x[1]))\n",
    "sort18 = {}\n",
    "for k in sorttup18:\n",
    "  if k[0] not in sort18:\n",
    "    sort18[k[0]] = k[1]\n",
    "  else:\n",
    "    sort18[k[0]].append(k[1])\n",
    "\n",
    "#print(json.dumps(ranks_2019, indent=2))\n"
   ]
  },
  {
   "attachments": {},
   "cell_type": "markdown",
   "metadata": {},
   "source": [
    "## Sort Teams per Event by Rank in 2018"
   ]
  },
  {
   "cell_type": "code",
   "execution_count": 95,
   "metadata": {},
   "outputs": [
    {
     "name": "stdout",
     "output_type": "stream",
     "text": [
      "NJFLA: \n",
      "1923 [50.0, 67.0]\n",
      "56 [69.0, 44.0]\n",
      "222 [53.0, 53.0]\n",
      "223 [53.0, 47.0]\n",
      "1676 [37.0, 46.0]\n",
      "219 [33.0, 37.0]\n",
      "1989 [41.0, 28.0]\n",
      "75 [27.0, 41.0]\n",
      "6860 [29.0, 30.0]\n",
      "102 [32.0, 25.0]\n",
      "41 [24.0, 32.0]\n",
      "4361 [29.0, 26.0]\n",
      "5992 [13.0, 42.0]\n",
      "6945 [11.0, 42.0]\n",
      "3142 [26.0, 27.0]\n",
      "1143 [35.0, 17.0]\n",
      "11 [24.0, 24.0]\n",
      "\n",
      "NJROB: \n",
      "303 [73.0, 70.0]\n",
      "2590 [63.0, 73.0]\n",
      "3314 [46.0, 51.0]\n",
      "316 [54.0, 34.0]\n",
      "1257 [39.0, 43.0]\n",
      "2016 [43.0, 26.0]\n",
      "4653 [24.0, 35.0]\n",
      "293 [23.0, 34.0]\n",
      "1403 [23.0, 33.0]\n",
      "1089 [27.0, 26.0]\n",
      "1807 [22.0, 31.0]\n",
      "2495 [7.0, 43.0]\n",
      "\n",
      "NJSKI: \n",
      "25 [72.0, 66.0]\n",
      "1923 [50.0, 67.0]\n",
      "1257 [39.0, 43.0]\n",
      "3637 [38.0, 31.0]\n",
      "75 [27.0, 41.0]\n",
      "6860 [29.0, 30.0]\n",
      "293 [23.0, 34.0]\n",
      "41 [24.0, 32.0]\n",
      "1403 [23.0, 33.0]\n",
      "4361 [29.0, 26.0]\n",
      "5992 [13.0, 42.0]\n",
      "1089 [27.0, 26.0]\n",
      "2495 [7.0, 43.0]\n",
      "\n",
      "NJTAB: \n",
      "25 [72.0, 66.0]\n",
      "365 [61.0, 50.0]\n",
      "1712 [57.0, 41.0]\n",
      "4342 [50.0, 45.0]\n",
      "2180 [46.0, 40.0]\n",
      "203 [30.0, 51.0]\n",
      "7110 [44.0, 29.0]\n",
      "272 [31.0, 38.0]\n",
      "5895 [24.0, 43.0]\n",
      "1168 [9.0, 45.0]\n",
      "1807 [22.0, 31.0]\n",
      "6226 [11.0, 39.0]\n",
      "\n",
      "NJWAS: \n",
      "303 [73.0, 70.0]\n",
      "834 [53.0, 68.0]\n",
      "56 [69.0, 44.0]\n",
      "222 [53.0, 53.0]\n",
      "223 [53.0, 47.0]\n",
      "1676 [37.0, 46.0]\n",
      "219 [33.0, 37.0]\n",
      "1989 [41.0, 28.0]\n",
      "4361 [29.0, 26.0]\n",
      "6945 [11.0, 42.0]\n",
      "3142 [26.0, 27.0]\n",
      "1143 [35.0, 17.0]\n",
      "11 [24.0, 24.0]\n",
      "\n",
      "PABEN: \n",
      "3314 [46.0, 51.0]\n",
      "2607 [59.0, 34.0]\n",
      "316 [54.0, 34.0]\n",
      "1391 [18.0, 52.0]\n",
      "2016 [43.0, 26.0]\n",
      "272 [31.0, 38.0]\n",
      "5401 [23.0, 33.0]\n",
      "5310 [40.0, 8.0]\n",
      "321 [17.0, 19.0]\n",
      "\n",
      "PAHAT: \n",
      "25 [72.0, 66.0]\n",
      "2590 [63.0, 73.0]\n",
      "365 [61.0, 50.0]\n",
      "1640 [49.0, 60.0]\n",
      "1218 [52.0, 56.0]\n",
      "708 [67.0, 32.0]\n",
      "2607 [59.0, 34.0]\n",
      "5407 [35.0, 53.0]\n",
      "2180 [46.0, 40.0]\n",
      "341 [36.0, 49.0]\n",
      "103 [49.0, 34.0]\n",
      "7110 [44.0, 29.0]\n",
      "1391 [18.0, 52.0]\n",
      "272 [31.0, 38.0]\n",
      "3637 [38.0, 31.0]\n",
      "5895 [24.0, 43.0]\n",
      "4653 [24.0, 35.0]\n",
      "1807 [22.0, 31.0]\n",
      "2539 [29.0, 23.0]\n",
      "433 [15.0, 37.0]\n",
      "6226 [11.0, 39.0]\n",
      "5181 [23.0, 26.0]\n",
      "5310 [40.0, 8.0]\n",
      "\n",
      "PAPHI: \n",
      "834 [53.0, 68.0]\n",
      "1640 [49.0, 60.0]\n",
      "1218 [52.0, 56.0]\n",
      "708 [67.0, 32.0]\n",
      "1712 [57.0, 41.0]\n",
      "4342 [50.0, 45.0]\n",
      "5407 [35.0, 53.0]\n",
      "341 [36.0, 49.0]\n",
      "103 [49.0, 34.0]\n",
      "203 [30.0, 51.0]\n",
      "102 [32.0, 25.0]\n",
      "5401 [23.0, 33.0]\n",
      "1168 [9.0, 45.0]\n",
      "2539 [29.0, 23.0]\n",
      "433 [15.0, 37.0]\n",
      "5181 [23.0, 26.0]\n",
      "321 [17.0, 19.0]\n",
      "\n"
     ]
    }
   ],
   "source": [
    "for event, teams in teams_at_events.items():  \n",
    "    print(f\"{event}: \")\n",
    "    for team in sort18:\n",
    "        if team in teams:\n",
    "            print(team, sort18[team])\n",
    "    print()\n"
   ]
  }
 ],
 "metadata": {
  "kernelspec": {
   "display_name": "Python 3",
   "language": "python",
   "name": "python3"
  },
  "language_info": {
   "codemirror_mode": {
    "name": "ipython",
    "version": 3
   },
   "file_extension": ".py",
   "mimetype": "text/x-python",
   "name": "python",
   "nbconvert_exporter": "python",
   "pygments_lexer": "ipython3",
   "version": "3.8.10"
  },
  "orig_nbformat": 4,
  "vscode": {
   "interpreter": {
    "hash": "916dbcbb3f70747c44a77c7bcd40155683ae19c65e1c03b4aa3499c5328201f1"
   }
  }
 },
 "nbformat": 4,
 "nbformat_minor": 2
}
