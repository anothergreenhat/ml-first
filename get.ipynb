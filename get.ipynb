{
 "cells": [
  {
   "attachments": {},
   "cell_type": "markdown",
   "metadata": {},
   "source": [
    "# All Events by District\n",
    "\n",
    "districtCode=FMA"
   ]
  },
  {
   "cell_type": "code",
   "execution_count": 2,
   "metadata": {},
   "outputs": [
    {
     "name": "stdout",
     "output_type": "stream",
     "text": [
      "MRCMP NJFLA NJROB NJSKI NJTAB NJWAS PABEN PAHAT PAPHI\n"
     ]
    }
   ],
   "source": [
    "import requests\n",
    "import json\n",
    "import os\n",
    "\n",
    "apikey = os.environ['FRC_API_KEY']\n",
    "\n",
    "url = \"https://frc-api.firstinspires.org/v3.0/2023/events?districtCode=FMA\"\n",
    "\n",
    "payload={}\n",
    "headers = {\n",
    "  'Authorization': 'Basic '+apikey,\n",
    "  'If-Modified-Since': ''\n",
    "}\n",
    "\n",
    "response = requests.request(\"GET\", url, headers=headers, data=payload)\n",
    "events = response.json()\n",
    "\n",
    "print(*(event['code'] for event in events['Events']))\n"
   ]
  },
  {
   "attachments": {},
   "cell_type": "markdown",
   "metadata": {},
   "source": [
    "# Teams by Event\n",
    "\n",
    "Using eventCode="
   ]
  },
  {
   "cell_type": "code",
   "execution_count": 3,
   "metadata": {},
   "outputs": [
    {
     "name": "stdout",
     "output_type": "stream",
     "text": [
      "102\n"
     ]
    }
   ],
   "source": [
    "url = \"https://frc-api.firstinspires.org/v3.0/2023/teams?districtCode=FMA&eventCode=PAPHI\"\n",
    "\n",
    "payload={}\n",
    "headers = {\n",
    "  'Authorization': 'Basic '+apikey,\n",
    "  'If-Modified-Since': ''\n",
    "}\n",
    "\n",
    "response = requests.request(\"GET\", url, headers=headers, data=payload)\n",
    "json = response.json()\n",
    "print(json[\"teams\"][0][\"teamNumber\"])"
   ]
  },
  {
   "attachments": {},
   "cell_type": "markdown",
   "metadata": {},
   "source": [
    "## Determine Teams per Event"
   ]
  },
  {
   "cell_type": "code",
   "execution_count": 4,
   "metadata": {},
   "outputs": [
    {
     "name": "stdout",
     "output_type": "stream",
     "text": [
      "NJFLA: [11, 41, 56, 75, 102, 193, 219, 222, 223, 484, 555, 752, 1143, 1279, 1672, 1676, 1811, 1923, 1989, 2070, 2458, 2577, 3142, 3515, 4361, 4573, 5438, 5732, 5992, 6860, 6945, 7045, 8117, 8513, 8628, 9116]\n",
      "NJROB: [87, 293, 303, 316, 714, 1089, 1257, 1403, 1626, 1807, 1812, 2016, 2191, 2495, 2554, 2590, 3314, 4652, 4653, 5624, 5666, 5684, 6897, 7587, 8075, 8130, 8704, 8707, 8714, 9015, 9116]\n",
      "NJSKI: [25, 41, 75, 204, 293, 752, 1089, 1257, 1279, 1403, 1626, 1672, 1923, 2070, 2495, 2554, 2577, 3340, 3515, 3637, 4361, 4750, 5438, 5992, 6016, 6860, 6897, 7587, 8075, 8513, 8588, 8706, 8714]\n",
      "NJTAB: [25, 87, 203, 204, 272, 365, 816, 1168, 1647, 1712, 1807, 1812, 2180, 2191, 2559, 2720, 2722, 4342, 4750, 5113, 5457, 5732, 5895, 6226, 6921, 7110, 8130, 8630, 8704, 8721, 9100]\n",
      "NJWAS: [11, 56, 193, 219, 222, 223, 303, 555, 714, 834, 1143, 1672, 1676, 1811, 1989, 2070, 3142, 3340, 4285, 4361, 4573, 4652, 6943, 6945, 7045, 8117, 8588, 8628, 8706, 8707, 9015]\n",
      "PABEN: [272, 316, 321, 484, 486, 1391, 1647, 2016, 2458, 2607, 3314, 4285, 4373, 4575, 5310, 5401, 5457, 5490, 5624, 5666, 6921, 6943, 7414, 8630, 8721, 8771, 9014, 9027, 9094, 9100]\n",
      "PAHAT: [25, 103, 272, 341, 365, 423, 433, 708, 709, 816, 1218, 1391, 1640, 1807, 2095, 2180, 2234, 2539, 2559, 2590, 2607, 3637, 4653, 5113, 5181, 5310, 5407, 5490, 5684, 5895, 6226, 6808, 7110, 7414]\n",
      "PAPHI: [102, 103, 203, 321, 341, 423, 433, 486, 708, 709, 834, 1168, 1218, 1640, 1712, 2095, 2234, 2539, 2720, 2722, 4342, 4373, 4575, 5181, 5401, 5407, 6808, 8771, 9014, 9027, 9094]\n"
     ]
    }
   ],
   "source": [
    "import requests\n",
    "import json\n",
    "\n",
    "eventCodes = [event['code'] for event in events['Events']]\n",
    "  \n",
    "base_eventCode_url = \"https://frc-api.firstinspires.org/v3.0/2023/teams?districtCode=FMA&eventCode=\"\n",
    "\n",
    "event_urls = {}\n",
    "for eventCode in eventCodes:\n",
    "  event_urls[eventCode] = base_eventCode_url+eventCode\n",
    "\n",
    "payload={}\n",
    "headers = {\n",
    "  'Authorization': 'Basic '+apikey,\n",
    "  'If-Modified-Since': ''\n",
    "}\n",
    "\n",
    "teams_at_events = {}\n",
    "\n",
    "for eventCode, url in event_urls.items():\n",
    "  response = requests.request(\"GET\", url, headers=headers, data=payload)\n",
    "  if response.status_code == 200:\n",
    "    event_teams = response.json()\n",
    "    for team in event_teams[\"teams\"]:\n",
    "      if eventCode in teams_at_events:\n",
    "        teams_at_events[eventCode].append(team[\"teamNumber\"])\n",
    "      else:\n",
    "        teams_at_events[eventCode] = [team[\"teamNumber\"]]\n",
    "  else:\n",
    "    print(f\"mlff: get.py: {eventCode} {response.status_code}\")\n",
    "\n",
    "\n",
    "for event, teams in teams_at_events.items():\n",
    "  print(f\"{event}: {teams}\")\n"
   ]
  },
  {
   "attachments": {},
   "cell_type": "markdown",
   "metadata": {},
   "source": [
    "# Collect Rankings\n",
    "\n",
    "Rankings for 2019, 2021, 2022"
   ]
  },
  {
   "cell_type": "code",
   "execution_count": 5,
   "metadata": {},
   "outputs": [
    {
     "name": "stdout",
     "output_type": "stream",
     "text": [
      "{2018: [63.0, 73.0], 2019: [49.0, 71.0], 2022: [66.0, 71.0], 2023: [66.0, 71.0]}\n"
     ]
    }
   ],
   "source": [
    "import statistics\n",
    "url23 = \"https://frc-api.firstinspires.org/v3.0/2022/rankings/district?districtCode=FMA\"\n",
    "url22 = \"https://frc-api.firstinspires.org/v3.0/2022/rankings/district?districtCode=FMA\"\n",
    "url19 = \"https://frc-api.firstinspires.org/v3.0/2019/rankings/district?districtCode=FMA\"\n",
    "url18 = \"https://frc-api.firstinspires.org/v3.0/2018/rankings/district?districtCode=MAR\"\n",
    "\n",
    "rank_year_urls = {2018:url18, 2019:url19, 2022:url22, 2023:url23}\n",
    "\n",
    "payload={}\n",
    "headers = {\n",
    "  'Authorization': 'Basic '+apikey,\n",
    "  'If-Modified-Since': ''\n",
    "}\n",
    "\n",
    "#teams_and_ranks_by_year = {2018:{}, 2019:{}, 2022:{}}\n",
    "teams_with_ranks_each_year = {}\n",
    "\n",
    "for year, url in rank_year_urls.items():\n",
    "  response = requests.request(\"GET\", url, headers=headers, data=payload)\n",
    "  if response.status_code == 200:\n",
    "    team_ranks_for_year = response.json()\n",
    "    for ranks_for_team in team_ranks_for_year[\"districtRanks\"]:\n",
    "      team_num = ranks_for_team[\"teamNumber\"]\n",
    "      if ranks_for_team[\"event2Points\"] is None:\n",
    "        continue\n",
    "      if team_num in teams_with_ranks_each_year:\n",
    "        if year in teams_with_ranks_each_year[team_num]:\n",
    "          teams_with_ranks_each_year[team_num][year].append(ranks_for_team[\"event1Points\"])\n",
    "          teams_with_ranks_each_year[team_num][year].append(ranks_for_team[\"event2Points\"])\n",
    "        else:\n",
    "          teams_with_ranks_each_year[team_num][year] = [ranks_for_team[\"event1Points\"]]\n",
    "          teams_with_ranks_each_year[team_num][year].append(ranks_for_team[\"event2Points\"])\n",
    "      else:\n",
    "          teams_with_ranks_each_year[team_num] = {}\n",
    "          if year in teams_with_ranks_each_year[team_num]:\n",
    "            teams_with_ranks_each_year[year] = [ranks_for_team[\"event1Points\"]]\n",
    "            teams_with_ranks_each_year[team_num][year].append(ranks_for_team[\"event2Points\"])\n",
    "          else:\n",
    "            teams_with_ranks_each_year[team_num][year] = [ranks_for_team[\"event1Points\"]]\n",
    "            teams_with_ranks_each_year[team_num][year].append(ranks_for_team[\"event2Points\"])\n",
    "  else:\n",
    "    print(f\"mlff: get.py: {year} {response.status_code}\")\n",
    "\n",
    "#print(json.dumps(ranks_2019, indent=2))\n",
    "print(teams_with_ranks_each_year[2590])"
   ]
  },
  {
   "attachments": {},
   "cell_type": "markdown",
   "metadata": {},
   "source": [
    "## Sort Teams per Event by Rank\n",
    "\n",
    "Using statistical mean of `event1Points` and `event2Points` for each team"
   ]
  },
  {
   "cell_type": "code",
   "execution_count": 6,
   "metadata": {},
   "outputs": [
    {
     "name": "stdout",
     "output_type": "stream",
     "text": [
      "[(2590, {2018: [63.0, 73.0], 2019: [49.0, 71.0], 2022: [66.0, 71.0], 2023: [66.0, 71.0]}), (1640, {2018: [49.0, 60.0], 2019: [63.0, 62.0], 2022: [61.0, 73.0], 2023: [61.0, 73.0]}), (5895, {2018: [24.0, 43.0], 2019: [33.0, 45.0], 2022: [73.0, 73.0], 2023: [73.0, 73.0]}), (1923, {2018: [50.0, 67.0], 2019: [47.0, 33.0], 2022: [53.0, 64.0], 2023: [53.0, 64.0]}), (2539, {2018: [29.0, 23.0], 2019: [63.0, 48.0], 2022: [69.0, 61.0], 2023: [69.0, 61.0]}), (834, {2018: [53.0, 68.0], 2019: [48.0, 71.0], 2022: [44.0, 42.0], 2023: [44.0, 42.0]}), (1807, {2018: [22.0, 31.0], 2019: [58.0, 60.0], 2022: [59.0, 57.0], 2023: [59.0, 57.0]}), (4342, {2018: [50.0, 45.0], 2019: [71.0, 34.0], 2022: [49.0, 48.0], 2023: [49.0, 48.0]}), (25, {2018: [72.0, 66.0], 2019: [43.0, 42.0], 2022: [55.0, 28.0], 2023: [55.0, 28.0]}), (1218, {2018: [52.0, 56.0], 2019: [33.0, 54.0], 2022: [41.0, 56.0], 2023: [41.0, 56.0]}), (222, {2018: [53.0, 53.0], 2019: [66.0, 33.0], 2022: [57.0, 29.0], 2023: [57.0, 29.0]}), (1403, {2018: [23.0, 33.0], 2019: [30.0, 69.0], 2022: [60.0, 46.0], 2023: [60.0, 46.0]}), (56, {2018: [69.0, 44.0], 2019: [76.0, 45.0], 2022: [25.0, 40.0], 2023: [25.0, 40.0]}), (1676, {2018: [37.0, 46.0], 2019: [58.0, 48.0], 2022: [41.0, 42.0], 2023: [41.0, 42.0]}), (41, {2018: [24.0, 32.0], 2019: [26.0, 34.0], 2022: [61.0, 57.0], 2023: [61.0, 57.0]}), (341, {2018: [36.0, 49.0], 2019: [35.0, 25.0], 2022: [30.0, 72.0], 2023: [30.0, 72.0]}), (3314, {2018: [46.0, 51.0], 2019: [30.0, 42.0], 2022: [42.0, 47.0], 2023: [42.0, 47.0]}), (2016, {2018: [43.0, 26.0], 2019: [51.0, 30.0], 2022: [26.0, 70.0], 2023: [26.0, 70.0]}), (365, {2018: [61.0, 50.0], 2019: [21.0, 63.0], 2022: [28.0, 37.0], 2023: [28.0, 37.0]}), (75, {2018: [27.0, 41.0], 2019: [21.0, 41.0], 2022: [54.0, 42.0], 2023: [54.0, 42.0]}), (103, {2018: [49.0, 34.0], 2019: [41.0, 39.0], 2022: [26.0, 52.0], 2023: [26.0, 52.0]}), (708, {2018: [67.0, 32.0], 2019: [27.0, 47.0], 2022: [45.0, 27.0], 2023: [45.0, 27.0]}), (433, {2018: [15.0, 37.0], 2019: [57.0, 38.0], 2022: [46.0, 34.0], 2023: [46.0, 34.0]}), (1257, {2018: [39.0, 43.0], 2019: [44.0, 34.0], 2022: [27.0, 46.0], 2023: [27.0, 46.0]}), (272, {2018: [31.0, 38.0], 2019: [56.0, 32.0], 2022: [28.0, 44.0], 2023: [28.0, 44.0]}), (1391, {2018: [18.0, 52.0], 2019: [16.0, 34.0], 2022: [44.0, 46.0], 2023: [44.0, 46.0]}), (11, {2018: [24.0, 24.0], 2019: [23.0, 59.0], 2022: [25.0, 59.0], 2023: [25.0, 59.0]}), (3142, {2018: [26.0, 27.0], 2022: [66.0, 56.0], 2023: [66.0, 56.0]}), (223, {2018: [53.0, 47.0], 2019: [25.0, 33.0], 2022: [32.0, 36.0], 2023: [32.0, 36.0]}), (5407, {2018: [35.0, 53.0], 2019: [39.0, 32.0], 2022: [22.0, 40.0], 2023: [22.0, 40.0]}), (2607, {2018: [59.0, 34.0], 2019: [34.0, 38.0], 2022: [29.0, 29.0], 2023: [29.0, 29.0]}), (5181, {2018: [23.0, 26.0], 2019: [44.0, 28.0], 2022: [25.0, 48.0], 2023: [25.0, 48.0]}), (3637, {2018: [38.0, 31.0], 2019: [31.0, 55.0], 2022: [24.0, 31.0], 2023: [24.0, 31.0]}), (5401, {2018: [23.0, 33.0], 2019: [55.0, 44.0], 2022: [18.0, 34.0], 2023: [18.0, 34.0]}), (316, {2018: [54.0, 34.0], 2022: [16.0, 67.0], 2023: [16.0, 67.0]}), (102, {2018: [32.0, 25.0], 2019: [39.0, 29.0], 2022: [38.0, 20.0], 2023: [38.0, 20.0]}), (4653, {2018: [24.0, 35.0], 2019: [21.0, 44.0], 2022: [33.0, 25.0], 2023: [33.0, 25.0]}), (1626, {2019: [32.0, 25.0], 2022: [34.0, 57.0], 2023: [34.0, 57.0]}), (1089, {2018: [27.0, 26.0], 2019: [23.0, 29.0], 2022: [20.0, 46.0], 2023: [20.0, 46.0]}), (1914, {2022: [48.0, 68.0], 2023: [48.0, 68.0]}), (2577, {2019: [71.0, 38.0], 2022: [46.0, 14.0], 2023: [46.0, 14.0]}), (6226, {2018: [11.0, 39.0], 2019: [42.0, 29.0], 2022: [28.0, 23.0], 2023: [28.0, 23.0]}), (7110, {2018: [44.0, 29.0], 2022: [44.0, 23.0], 2023: [44.0, 23.0]}), (2180, {2018: [46.0, 40.0], 2022: [35.0, 23.0], 2023: [35.0, 23.0]}), (203, {2018: [30.0, 51.0], 2022: [24.0, 36.0], 2023: [24.0, 36.0]}), (7414, {2019: [28.0, 19.0], 2022: [30.0, 40.0], 2023: [30.0, 40.0]}), (219, {2018: [33.0, 37.0], 2022: [46.0, 12.0], 2023: [46.0, 12.0]}), (4285, {2019: [22.0, 43.0], 2022: [32.0, 24.0], 2023: [32.0, 24.0]}), (2191, {2019: [44.0, 20.0], 2022: [33.0, 20.0], 2023: [33.0, 20.0]}), (1168, {2018: [9.0, 45.0], 2022: [32.0, 23.0], 2023: [32.0, 23.0]}), (293, {2018: [23.0, 34.0], 2022: [17.0, 35.0], 2023: [17.0, 35.0]}), (2495, {2018: [7.0, 43.0], 2022: [24.0, 31.0], 2023: [24.0, 31.0]}), (7587, {2019: [33.0, 16.0], 2022: [20.0, 31.0], 2023: [20.0, 31.0]}), (4373, {2022: [28.0, 44.0], 2023: [28.0, 44.0]}), (1672, {2022: [29.0, 40.0], 2023: [29.0, 40.0]}), (1811, {2022: [17.0, 50.0], 2023: [17.0, 50.0]}), (5732, {2022: [38.0, 27.0], 2023: [38.0, 27.0]}), (2095, {2022: [39.0, 23.0], 2023: [39.0, 23.0]}), (7045, {2022: [30.0, 24.0], 2023: [30.0, 24.0]}), (486, {2022: [24.0, 30.0], 2023: [24.0, 30.0]}), (6327, {2022: [20.0, 34.0], 2023: [20.0, 34.0]}), (5490, {2022: [23.0, 30.0], 2023: [23.0, 30.0]}), (2234, {2022: [29.0, 24.0], 2023: [29.0, 24.0]}), (484, {2022: [19.0, 33.0], 2023: [19.0, 33.0]})]\n"
     ]
    }
   ],
   "source": [
    "def average_of_all_year_pts(tuple_for_team: tuple):\n",
    "    sum = 0\n",
    "    i = 0\n",
    "    team_number, dict_of_data = tuple_for_team\n",
    "    for year, list_of_points in dict_of_data.items():\n",
    "        sum += statistics.mean(list_of_points)\n",
    "    i += 1\n",
    "    return sum/i\n",
    "    \n",
    "    \n",
    "unsorted_teams = {team: data for team, data in teams_with_ranks_each_year.items() if 2023 in teams_with_ranks_each_year[team]}\n",
    "\n",
    "sorted_teams = sorted(unsorted_teams.items(), reverse=True, key=average_of_all_year_pts)\n",
    "print(sorted_teams)"
   ]
  },
  {
   "cell_type": "code",
   "execution_count": 9,
   "metadata": {},
   "outputs": [
    {
     "name": "stdout",
     "output_type": "stream",
     "text": [
      "NJFLA: \n",
      "1923 222 56 1676 41 75 11 3142 223 102 2577 219 1672 1811 5732 7045 484 \n",
      "NJROB: \n",
      "2590 1807 1403 3314 2016 1257 316 4653 1626 1089 2191 293 2495 7587 \n",
      "NJSKI: \n",
      "1923 25 1403 41 75 1257 3637 1626 1089 2577 293 2495 7587 1672 \n",
      "NJTAB: \n",
      "5895 1807 4342 25 365 272 6226 7110 2180 203 2191 1168 5732 \n",
      "NJWAS: \n",
      "834 222 56 1676 11 3142 223 219 4285 1672 1811 7045 \n",
      "PABEN: \n",
      "3314 2016 272 1391 2607 5401 316 7414 4285 4373 486 5490 484 \n",
      "PAHAT: \n",
      "2590 1640 5895 2539 1807 25 1218 341 365 103 708 433 272 1391 5407 2607 5181 3637 4653 6226 7110 2180 7414 2095 5490 2234 \n",
      "PAPHI: \n",
      "1640 2539 834 4342 1218 341 103 708 433 5407 5181 5401 102 203 1168 4373 2095 486 2234 \n"
     ]
    }
   ],
   "source": [
    "for event, teams in teams_at_events.items():  \n",
    "    print(f\"{event}: \", end=' ')\n",
    "    for team, _ in sorted_teams:\n",
    "        if team in teams:\n",
    "            print(team, end=' ')\n",
    "    print()\n"
   ]
  }
 ],
 "metadata": {
  "kernelspec": {
   "display_name": "Python 3",
   "language": "python",
   "name": "python3"
  },
  "language_info": {
   "codemirror_mode": {
    "name": "ipython",
    "version": 3
   },
   "file_extension": ".py",
   "mimetype": "text/x-python",
   "name": "python",
   "nbconvert_exporter": "python",
   "pygments_lexer": "ipython3",
   "version": "3.8.10"
  },
  "orig_nbformat": 4,
  "vscode": {
   "interpreter": {
    "hash": "916dbcbb3f70747c44a77c7bcd40155683ae19c65e1c03b4aa3499c5328201f1"
   }
  }
 },
 "nbformat": 4,
 "nbformat_minor": 2
}
